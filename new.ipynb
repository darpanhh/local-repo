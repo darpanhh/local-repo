import numpy as np

def GaussLegendre3P(f, a, b):
    
    w = np.array([5/9, 8/9, 5/9])
    x = np.array([-np.sqrt(3/5), 0, np.sqrt(3/5)])

   
    P = (b - a) / 2
    Q = (a + b) / 2
    x = P * x + Q

    result = P * np.dot(f(x), w)
    return result


print(GaussLegendre3P(lambda x: x**3 + 5, 0, 2))  


print(GaussLegendre3P(lambda x: x**5 + 2, 2, 4))  


print(GaussLegendre3P(lambda x: np.sin(x), 0, np.pi)) 

print(GaussLegendre3P(lambda x: 4/(1 + x**2), 0, 1)) 